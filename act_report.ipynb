{
 "cells": [
  {
   "cell_type": "markdown",
   "metadata": {},
   "source": [
    "## Report: act_report"
   ]
  },
  {
   "cell_type": "markdown",
   "metadata": {},
   "source": [
    "Data was scraped. Dogs were rated. Goats tried to remain but were turned away. All of this to find out which breed of dog gets the most ratings by @WeRateDogs on Twitter and more importantly settle a lifetime dispute between myself and a Chihuahua-loving friend about if German Shepherd is a more lovable breed than Chihuahua. "
   ]
  },
  {
   "cell_type": "markdown",
   "metadata": {},
   "source": [
    "## Which dog breed gets the most ratings?"
   ]
  },
  {
   "cell_type": "markdown",
   "metadata": {},
   "source": [
    "![doggertyperatings.png](./imgs/doggertyperatings.png)"
   ]
  },
  {
   "cell_type": "markdown",
   "metadata": {},
   "source": [
    "As shown by the chart it is clear that out the Golden Retriever clearly gets more ratings than any breed. Also unfortanulety for our hero (ME!) the German Shepherd barely makes the list as we see that our arch-nemises the Chihahua is near the top for most ratings."
   ]
  },
  {
   "cell_type": "markdown",
   "metadata": {},
   "source": [
    "## How does the count of ratings between Chihuahu and German Shepard compare?"
   ]
  },
  {
   "cell_type": "markdown",
   "metadata": {},
   "source": [
    "![chivsgs.png](./imgs/chivsgs.png)"
   ]
  },
  {
   "cell_type": "markdown",
   "metadata": {},
   "source": [
    "This chart makes it even more clear that Chihuahua get more ratings than German Shepherd. Although, the range of ratings for Chihuahua is more widespread than ratings for German Shepherd. I honestly don't know how a Chihuahua gets a rating of 14, which is the max rating any dog has ever gotten! "
   ]
  },
  {
   "cell_type": "markdown",
   "metadata": {},
   "source": [
    "## Do Chihuahua or German Shepherd have a higher average rating?"
   ]
  },
  {
   "cell_type": "markdown",
   "metadata": {},
   "source": [
    "The average rating for a Chihuahua is 10.79. The average rating for a German Shepherd is 10.95. So I can finally do my happy dance and neener neener my Chihuahua-loving friend. "
   ]
  },
  {
   "cell_type": "markdown",
   "metadata": {},
   "source": [
    "## Final Thoughts"
   ]
  },
  {
   "cell_type": "markdown",
   "metadata": {},
   "source": [
    "While this has been a fun adventure by wrangling multiple sources of data to help determine dog ratings it must now come to a close. I was glad to know that my favorite dog breed does have a higher rating than the Chihuahua. However, I do love all dogs equally because after all, they are really good dogs, Brent!"
   ]
  }
 ],
 "metadata": {
  "kernelspec": {
   "display_name": "Python 3 (ipykernel)",
   "language": "python",
   "name": "python3"
  },
  "language_info": {
   "codemirror_mode": {
    "name": "ipython",
    "version": 3
   },
   "file_extension": ".py",
   "mimetype": "text/x-python",
   "name": "python",
   "nbconvert_exporter": "python",
   "pygments_lexer": "ipython3",
   "version": "3.12.0"
  }
 },
 "nbformat": 4,
 "nbformat_minor": 4
}
